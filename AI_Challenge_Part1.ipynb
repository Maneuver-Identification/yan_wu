{
 "cells": [
  {
   "cell_type": "code",
   "execution_count": 23,
   "metadata": {
    "id": "EbBat_buDLR3"
   },
   "outputs": [],
   "source": [
    "import pandas as pd\n",
    "import numpy as np\n",
    "import os"
   ]
  },
  {
   "cell_type": "code",
   "execution_count": 47,
   "metadata": {
    "id": "7koLEUsjqG9F"
   },
   "outputs": [],
   "source": [
    "def test(df):\n",
    "    \"\"\"\n",
    "    Scores the trajectory based on a few statistic measures.\n",
    "    It would return a Boolean value where True means the data is good, and False means the data is bad.\n",
    "    \"\"\"\n",
    "    criteria = [df[' xEast (m)'].mean() < 100, \n",
    "            df[' xEast (m)'].std() < 100, \n",
    "            df[' yNorth (m)'].mean() < 100, \n",
    "            df[' yNorth (m)'].std() < 100, \n",
    "            df[' roll (deg)'].mean() < 0, \n",
    "    ]\n",
    "    score = sum(criteria) > 3\n",
    "    #print(criteria)\n",
    "    return score"
   ]
  },
  {
   "cell_type": "code",
   "execution_count": 26,
   "metadata": {
    "id": "7NzcyLXff77P"
   },
   "outputs": [],
   "source": [
    "def true_positive():\n",
    "  \"\"\"\n",
    "  A test on the true positive rate on the model. It loops through around 500 trajectories labelled as good and count\n",
    "  the percentage of them being classified as good.\n",
    "\n",
    "  It prints out the file names that are misclassified.\n",
    "  \"\"\"\n",
    "  good_score = 0\n",
    "  total = 0\n",
    "  #for file in os.listdir(\"/content/drive/MyDrive/12000000000_tsv_good\"):\n",
    "  for file in os.listdir(\"../Pipeline/Step0_Raw/data/12000000000_tsv_good\"):\n",
    "    bad_possibility = 0\n",
    "    if not file.endswith('.tsv'):\n",
    "      continue\n",
    "    #df = pd.read_csv(\"/content/drive/MyDrive/12000000000_tsv_good/\"+file, sep='\\t')\n",
    "    df = pd.read_csv(\"../Pipeline/Step0_Raw/data/12000000000_tsv_good/\"+file, sep='\\t')\n",
    "    if test(df):\n",
    "      # print(file)\n",
    "      pass\n",
    "      #good_score +=1\n",
    "    else:\n",
    "      #pass\n",
    "      good_score += 1\n",
    "    total += 1\n",
    "    #print(good_score)\n",
    "    if total > 500:\n",
    "      break\n",
    "  return good_score/total"
   ]
  },
  {
   "cell_type": "code",
   "execution_count": 33,
   "metadata": {
    "id": "bZLoQJW8guzJ"
   },
   "outputs": [],
   "source": [
    "def true_negative():\n",
    "  \"\"\"\n",
    "  A test on the true negative rate on the model. It loops through trajectories labelled as bad and count\n",
    "  the percentage of them being classified as bad.\n",
    "\n",
    "  It prints out the file names that are misclassified.\n",
    "  \"\"\"\n",
    "  bad_score = 0\n",
    "  total = 0\n",
    "  #for file in os.listdir(\"/content/drive/MyDrive/12000000000_tsv_bad\"):\n",
    "  for file in os.listdir(\"../Pipeline/Step0_Raw/data/12000000000_tsv_bad\"):\n",
    "    if not file.endswith('.tsv'):\n",
    "      continue\n",
    "    #df = pd.read_csv(\"/content/drive/MyDrive/12000000000_tsv_bad/\"+file, sep='\\t')\n",
    "    df = pd.read_csv(\"../Pipeline/Step0_Raw/data/12000000000_tsv_bad/\"+file, sep='\\t')\n",
    "    if test(df):\n",
    "      bad_score += 1\n",
    "      #pass\n",
    "    else:\n",
    "      # print(file)\n",
    "      pass\n",
    "      #bad_score += 1\n",
    "    total += 1\n",
    "    #print(bad_score)\n",
    "  return bad_score/total"
   ]
  },
  {
   "cell_type": "code",
   "execution_count": 48,
   "metadata": {
    "colab": {
     "base_uri": "https://localhost:8080/"
    },
    "id": "6KoeE7-XrROt",
    "outputId": "84a94200-ff50-4442-bd98-d2e09a45e7ef"
   },
   "outputs": [
    {
     "name": "stdout",
     "output_type": "stream",
     "text": [
      "true positive rate:\n",
      "0.9840319361277445\n",
      "true negative rate:\n",
      "0.9120234604105572\n"
     ]
    }
   ],
   "source": [
    "print('true positive rate:')\n",
    "print(true_positive())\n",
    "print('true negative rate:')\n",
    "print(true_negative())"
   ]
  },
  {
   "cell_type": "code",
   "execution_count": null,
   "metadata": {},
   "outputs": [],
   "source": []
  },
  {
   "cell_type": "code",
   "execution_count": null,
   "metadata": {},
   "outputs": [],
   "source": []
  },
  {
   "cell_type": "code",
   "execution_count": null,
   "metadata": {},
   "outputs": [],
   "source": []
  }
 ],
 "metadata": {
  "colab": {
   "collapsed_sections": [],
   "name": "AIChallenge Part1.ipynb",
   "provenance": []
  },
  "kernelspec": {
   "display_name": "Python 3",
   "language": "python",
   "name": "python3"
  },
  "language_info": {
   "codemirror_mode": {
    "name": "ipython",
    "version": 3
   },
   "file_extension": ".py",
   "mimetype": "text/x-python",
   "name": "python",
   "nbconvert_exporter": "python",
   "pygments_lexer": "ipython3",
   "version": "3.8.5"
  },
  "latex_envs": {
   "LaTeX_envs_menu_present": true,
   "autoclose": false,
   "autocomplete": true,
   "bibliofile": "biblio.bib",
   "cite_by": "apalike",
   "current_citInitial": 1,
   "eqLabelWithNumbers": true,
   "eqNumInitial": 1,
   "hotkeys": {
    "equation": "Ctrl-E",
    "itemize": "Ctrl-I"
   },
   "labels_anchors": false,
   "latex_user_defs": false,
   "report_style_numbering": false,
   "user_envs_cfg": false
  },
  "toc": {
   "base_numbering": 1,
   "nav_menu": {},
   "number_sections": true,
   "sideBar": true,
   "skip_h1_title": false,
   "title_cell": "Table of Contents",
   "title_sidebar": "Contents",
   "toc_cell": false,
   "toc_position": {},
   "toc_section_display": true,
   "toc_window_display": false
  },
  "varInspector": {
   "cols": {
    "lenName": 16,
    "lenType": 16,
    "lenVar": 40
   },
   "kernels_config": {
    "python": {
     "delete_cmd_postfix": "",
     "delete_cmd_prefix": "del ",
     "library": "var_list.py",
     "varRefreshCmd": "print(var_dic_list())"
    },
    "r": {
     "delete_cmd_postfix": ") ",
     "delete_cmd_prefix": "rm(",
     "library": "var_list.r",
     "varRefreshCmd": "cat(var_dic_list()) "
    }
   },
   "types_to_exclude": [
    "module",
    "function",
    "builtin_function_or_method",
    "instance",
    "_Feature"
   ],
   "window_display": false
  }
 },
 "nbformat": 4,
 "nbformat_minor": 1
}
